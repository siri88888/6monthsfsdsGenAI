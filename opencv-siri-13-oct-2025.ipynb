{
 "cells": [
  {
   "cell_type": "code",
   "execution_count": 1,
   "id": "ca9c2dd2",
   "metadata": {},
   "outputs": [],
   "source": [
    "\n",
    "import numpy as np\n",
    "import cv2\n",
    "\n"
   ]
  },
  {
   "cell_type": "code",
   "execution_count": 4,
   "id": "90f91c71",
   "metadata": {},
   "outputs": [
    {
     "data": {
      "text/plain": [
       "array([[[236, 226, 232],\n",
       "        [236, 226, 232],\n",
       "        [236, 226, 232],\n",
       "        ...,\n",
       "        [198, 192, 197],\n",
       "        [192, 186, 191],\n",
       "        [199, 193, 198]],\n",
       "\n",
       "       [[238, 228, 234],\n",
       "        [238, 228, 234],\n",
       "        [238, 228, 234],\n",
       "        ...,\n",
       "        [200, 194, 199],\n",
       "        [191, 185, 190],\n",
       "        [201, 195, 200]],\n",
       "\n",
       "       [[240, 230, 236],\n",
       "        [240, 230, 236],\n",
       "        [240, 230, 236],\n",
       "        ...,\n",
       "        [203, 197, 202],\n",
       "        [190, 184, 189],\n",
       "        [196, 190, 195]],\n",
       "\n",
       "       ...,\n",
       "\n",
       "       [[209, 208, 212],\n",
       "        [209, 208, 212],\n",
       "        [208, 207, 211],\n",
       "        ...,\n",
       "        [176, 175, 177],\n",
       "        [179, 178, 180],\n",
       "        [186, 185, 187]],\n",
       "\n",
       "       [[208, 207, 209],\n",
       "        [207, 206, 208],\n",
       "        [207, 206, 208],\n",
       "        ...,\n",
       "        [173, 175, 175],\n",
       "        [177, 179, 179],\n",
       "        [182, 184, 185]],\n",
       "\n",
       "       [[208, 207, 209],\n",
       "        [207, 206, 208],\n",
       "        [207, 206, 208],\n",
       "        ...,\n",
       "        [173, 175, 175],\n",
       "        [177, 179, 179],\n",
       "        [182, 184, 185]]], dtype=uint8)"
      ]
     },
     "execution_count": 4,
     "metadata": {},
     "output_type": "execute_result"
    }
   ],
   "source": [
    "\n",
    "input = cv2.imread(r\"C:\\Users\\Admin\\downloads\\siriwhite40x40.jpg\")\n",
    "input"
   ]
  },
  {
   "cell_type": "code",
   "execution_count": 5,
   "id": "86ee98f0",
   "metadata": {},
   "outputs": [],
   "source": [
    "cv2.imshow('siriwhite40x40',input)"
   ]
  },
  {
   "cell_type": "code",
   "execution_count": 6,
   "id": "d11c9514",
   "metadata": {},
   "outputs": [
    {
     "data": {
      "text/plain": [
       "27"
      ]
     },
     "execution_count": 6,
     "metadata": {},
     "output_type": "execute_result"
    }
   ],
   "source": [
    "cv2.waitKey()\n",
    "\n"
   ]
  },
  {
   "cell_type": "code",
   "execution_count": null,
   "id": "c0483380",
   "metadata": {},
   "outputs": [],
   "source": [
    "cv2.destroyAllWindows()"
   ]
  },
  {
   "cell_type": "code",
   "execution_count": null,
   "id": "20447844",
   "metadata": {},
   "outputs": [
    {
     "name": "stdout",
     "output_type": "stream",
     "text": [
      "height 1156 pixels\n",
      "height 650 pixels\n"
     ]
    }
   ],
   "source": [
    "print(\"height\",int(input.shape[0]),\"pixels\")\n",
    "print(\"height\",int(input.shape[1]),\"pixels\")"
   ]
  },
  {
   "cell_type": "code",
   "execution_count": null,
   "id": "39d2e2fb",
   "metadata": {},
   "outputs": [
    {
     "data": {
      "text/plain": [
       "True"
      ]
     },
     "execution_count": 9,
     "metadata": {},
     "output_type": "execute_result"
    }
   ],
   "source": [
    "cv2.imwrite('output.png',input)"
   ]
  },
  {
   "cell_type": "code",
   "execution_count": null,
   "id": "e3db2fdb",
   "metadata": {},
   "outputs": [
    {
     "data": {
      "text/plain": [
       "'c:\\\\Users\\\\Admin\\\\AppData\\\\Local\\\\Programs\\\\Microsoft VS Code'"
      ]
     },
     "execution_count": 10,
     "metadata": {},
     "output_type": "execute_result"
    }
   ],
   "source": [
    "import os\n",
    "os.getcwd()"
   ]
  }
 ],
 "metadata": {
  "kernelspec": {
   "display_name": "base",
   "language": "python",
   "name": "python3"
  },
  "language_info": {
   "codemirror_mode": {
    "name": "ipython",
    "version": 3
   },
   "file_extension": ".py",
   "mimetype": "text/x-python",
   "name": "python",
   "nbconvert_exporter": "python",
   "pygments_lexer": "ipython3",
   "version": "3.13.5"
  }
 },
 "nbformat": 4,
 "nbformat_minor": 5
}
